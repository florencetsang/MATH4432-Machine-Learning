{
 "cells": [
  {
   "cell_type": "markdown",
   "metadata": {},
   "source": [
    "<h2>Import Libraries</h2>"
   ]
  },
  {
   "cell_type": "code",
   "execution_count": 31,
   "metadata": {},
   "outputs": [],
   "source": [
    "import csv\n",
    "from sklearn.linear_model import LogisticRegression\n",
    "from sklearn.cross_validation import train_test_split \n",
    "from sklearn import metrics\n",
    "from sklearn import model_selection\n",
    "from sklearn.model_selection import cross_val_score\n",
    "from sklearn.svm import LinearSVC, SVC\n",
    "from sklearn.neighbors import KNeighborsClassifier\n",
    "from sklearn.ensemble import RandomForestClassifier, ExtraTreesClassifier\n",
    "from sklearn.neural_network import MLPClassifier\n",
    "from sklearn.discriminant_analysis import QuadraticDiscriminantAnalysis as QDA\n",
    "from sklearn.metrics import roc_curve, roc_auc_score\n",
    "import seaborn as sns\n",
    "import matplotlib.pyplot as plt\n",
    "import pandas as pd\n",
    "import numpy as np\n",
    "from numpy.random import randint\n",
    "from scipy import stats\n",
    "stats.chisqprob = lambda chisq, df: stats.chi2.sf(chisq, df)\n",
    "import statsmodels.api as sm"
   ]
  },
  {
   "cell_type": "code",
   "execution_count": 2,
   "metadata": {},
   "outputs": [],
   "source": [
    "sns.set(style=\"white\")\n",
    "sns.set(style=\"whitegrid\", color_codes=True)"
   ]
  },
  {
   "cell_type": "code",
   "execution_count": 3,
   "metadata": {},
   "outputs": [],
   "source": [
    "data_train = pd.read_csv('Football_data_training_new.csv', header=0)\n",
    "data_test = pd.read_csv('Football_data_test_new.csv', header=0)"
   ]
  },
  {
   "cell_type": "code",
   "execution_count": 4,
   "metadata": {},
   "outputs": [
    {
     "name": "stdout",
     "output_type": "stream",
     "text": [
      "(Rows, Columns):(9036, 67)\n",
      "(Rows, Columns):(1372, 67)\n"
     ]
    }
   ],
   "source": [
    "data_train = data_train.dropna()\n",
    "data_test = data_test.dropna()\n",
    "print(\"(Rows, Columns):{0}\".format(data_train.shape))\n",
    "print(\"(Rows, Columns):{0}\".format(data_test.shape))"
   ]
  },
  {
   "cell_type": "code",
   "execution_count": 5,
   "metadata": {},
   "outputs": [
    {
     "data": {
      "text/html": [
       "<div>\n",
       "<style scoped>\n",
       "    .dataframe tbody tr th:only-of-type {\n",
       "        vertical-align: middle;\n",
       "    }\n",
       "\n",
       "    .dataframe tbody tr th {\n",
       "        vertical-align: top;\n",
       "    }\n",
       "\n",
       "    .dataframe thead th {\n",
       "        text-align: right;\n",
       "    }\n",
       "</style>\n",
       "<table border=\"1\" class=\"dataframe\">\n",
       "  <thead>\n",
       "    <tr style=\"text-align: right;\">\n",
       "      <th></th>\n",
       "      <th>Div</th>\n",
       "      <th>Date</th>\n",
       "      <th>HomeTeam</th>\n",
       "      <th>AwayTeam</th>\n",
       "      <th>FTHG</th>\n",
       "      <th>FTAG</th>\n",
       "      <th>FTR</th>\n",
       "      <th>HTHG</th>\n",
       "      <th>HTAG</th>\n",
       "      <th>HTR</th>\n",
       "      <th>...</th>\n",
       "      <th>BbMxAHH</th>\n",
       "      <th>BbAvAHH</th>\n",
       "      <th>BbMxAHA</th>\n",
       "      <th>BbAvAHA</th>\n",
       "      <th>HDCPOH</th>\n",
       "      <th>HDCPOA</th>\n",
       "      <th>CC</th>\n",
       "      <th>PSCH</th>\n",
       "      <th>PSCD</th>\n",
       "      <th>PSCA</th>\n",
       "    </tr>\n",
       "  </thead>\n",
       "  <tbody>\n",
       "    <tr>\n",
       "      <th>0</th>\n",
       "      <td>E0</td>\n",
       "      <td>8/8/2015</td>\n",
       "      <td>Bournemouth</td>\n",
       "      <td>Aston Villa</td>\n",
       "      <td>0</td>\n",
       "      <td>1</td>\n",
       "      <td>A</td>\n",
       "      <td>0.0</td>\n",
       "      <td>0.0</td>\n",
       "      <td>D</td>\n",
       "      <td>...</td>\n",
       "      <td>1.98</td>\n",
       "      <td>1.93</td>\n",
       "      <td>1.99</td>\n",
       "      <td>1.92</td>\n",
       "      <td>0.00</td>\n",
       "      <td>1.92</td>\n",
       "      <td>A</td>\n",
       "      <td>1.82</td>\n",
       "      <td>3.88</td>\n",
       "      <td>4.70</td>\n",
       "    </tr>\n",
       "    <tr>\n",
       "      <th>1</th>\n",
       "      <td>E0</td>\n",
       "      <td>8/8/2015</td>\n",
       "      <td>Chelsea</td>\n",
       "      <td>Swansea</td>\n",
       "      <td>2</td>\n",
       "      <td>2</td>\n",
       "      <td>D</td>\n",
       "      <td>2.0</td>\n",
       "      <td>1.0</td>\n",
       "      <td>H</td>\n",
       "      <td>...</td>\n",
       "      <td>2.24</td>\n",
       "      <td>2.16</td>\n",
       "      <td>1.80</td>\n",
       "      <td>1.73</td>\n",
       "      <td>0.00</td>\n",
       "      <td>1.73</td>\n",
       "      <td>A</td>\n",
       "      <td>1.37</td>\n",
       "      <td>5.04</td>\n",
       "      <td>10.88</td>\n",
       "    </tr>\n",
       "    <tr>\n",
       "      <th>2</th>\n",
       "      <td>E0</td>\n",
       "      <td>8/8/2015</td>\n",
       "      <td>Everton</td>\n",
       "      <td>Watford</td>\n",
       "      <td>2</td>\n",
       "      <td>2</td>\n",
       "      <td>D</td>\n",
       "      <td>0.0</td>\n",
       "      <td>1.0</td>\n",
       "      <td>A</td>\n",
       "      <td>...</td>\n",
       "      <td>2.28</td>\n",
       "      <td>2.18</td>\n",
       "      <td>1.76</td>\n",
       "      <td>1.71</td>\n",
       "      <td>0.00</td>\n",
       "      <td>1.71</td>\n",
       "      <td>A</td>\n",
       "      <td>1.75</td>\n",
       "      <td>3.76</td>\n",
       "      <td>5.44</td>\n",
       "    </tr>\n",
       "    <tr>\n",
       "      <th>3</th>\n",
       "      <td>E0</td>\n",
       "      <td>8/8/2015</td>\n",
       "      <td>Leicester</td>\n",
       "      <td>Sunderland</td>\n",
       "      <td>4</td>\n",
       "      <td>2</td>\n",
       "      <td>H</td>\n",
       "      <td>3.0</td>\n",
       "      <td>0.0</td>\n",
       "      <td>H</td>\n",
       "      <td>...</td>\n",
       "      <td>2.00</td>\n",
       "      <td>1.95</td>\n",
       "      <td>1.96</td>\n",
       "      <td>1.90</td>\n",
       "      <td>1.95</td>\n",
       "      <td>0.00</td>\n",
       "      <td>H</td>\n",
       "      <td>1.79</td>\n",
       "      <td>3.74</td>\n",
       "      <td>5.10</td>\n",
       "    </tr>\n",
       "    <tr>\n",
       "      <th>4</th>\n",
       "      <td>E0</td>\n",
       "      <td>8/8/2015</td>\n",
       "      <td>Man United</td>\n",
       "      <td>Tottenham</td>\n",
       "      <td>1</td>\n",
       "      <td>0</td>\n",
       "      <td>H</td>\n",
       "      <td>1.0</td>\n",
       "      <td>0.0</td>\n",
       "      <td>H</td>\n",
       "      <td>...</td>\n",
       "      <td>2.20</td>\n",
       "      <td>2.09</td>\n",
       "      <td>1.82</td>\n",
       "      <td>1.78</td>\n",
       "      <td>1.00</td>\n",
       "      <td>1.00</td>\n",
       "      <td>H</td>\n",
       "      <td>1.64</td>\n",
       "      <td>4.07</td>\n",
       "      <td>6.04</td>\n",
       "    </tr>\n",
       "  </tbody>\n",
       "</table>\n",
       "<p>5 rows × 67 columns</p>\n",
       "</div>"
      ],
      "text/plain": [
       "  Div      Date     HomeTeam     AwayTeam  FTHG  FTAG FTR  HTHG  HTAG HTR  \\\n",
       "0  E0  8/8/2015  Bournemouth  Aston Villa     0     1   A   0.0   0.0   D   \n",
       "1  E0  8/8/2015      Chelsea      Swansea     2     2   D   2.0   1.0   H   \n",
       "2  E0  8/8/2015      Everton      Watford     2     2   D   0.0   1.0   A   \n",
       "3  E0  8/8/2015    Leicester   Sunderland     4     2   H   3.0   0.0   H   \n",
       "4  E0  8/8/2015   Man United    Tottenham     1     0   H   1.0   0.0   H   \n",
       "\n",
       "   ...    BbMxAHH  BbAvAHH  BbMxAHA  BbAvAHA  HDCPOH  HDCPOA  CC  PSCH  PSCD  \\\n",
       "0  ...       1.98     1.93     1.99     1.92    0.00    1.92   A  1.82  3.88   \n",
       "1  ...       2.24     2.16     1.80     1.73    0.00    1.73   A  1.37  5.04   \n",
       "2  ...       2.28     2.18     1.76     1.71    0.00    1.71   A  1.75  3.76   \n",
       "3  ...       2.00     1.95     1.96     1.90    1.95    0.00   H  1.79  3.74   \n",
       "4  ...       2.20     2.09     1.82     1.78    1.00    1.00   H  1.64  4.07   \n",
       "\n",
       "    PSCA  \n",
       "0   4.70  \n",
       "1  10.88  \n",
       "2   5.44  \n",
       "3   5.10  \n",
       "4   6.04  \n",
       "\n",
       "[5 rows x 67 columns]"
      ]
     },
     "execution_count": 5,
     "metadata": {},
     "output_type": "execute_result"
    }
   ],
   "source": [
    "data_train.head()"
   ]
  },
  {
   "cell_type": "markdown",
   "metadata": {},
   "source": [
    "<h3>Rough Model Finding</h3>"
   ]
  },
  {
   "cell_type": "code",
   "execution_count": 44,
   "metadata": {},
   "outputs": [],
   "source": [
    "for data in [data_train, data_test]:\n",
    "    data['result'] = np.where(data.HDCPOH > data.HDCPOA, \"Win\", \"Lost\")\n",
    "    data['result'] = np.where(data.HDCPOH == data.HDCPOA, \"Draw\", data['result'])"
   ]
  },
  {
   "cell_type": "code",
   "execution_count": 7,
   "metadata": {},
   "outputs": [
    {
     "data": {
      "text/html": [
       "<div>\n",
       "<style scoped>\n",
       "    .dataframe tbody tr th:only-of-type {\n",
       "        vertical-align: middle;\n",
       "    }\n",
       "\n",
       "    .dataframe tbody tr th {\n",
       "        vertical-align: top;\n",
       "    }\n",
       "\n",
       "    .dataframe thead th {\n",
       "        text-align: right;\n",
       "    }\n",
       "</style>\n",
       "<table border=\"1\" class=\"dataframe\">\n",
       "  <thead>\n",
       "    <tr style=\"text-align: right;\">\n",
       "      <th></th>\n",
       "      <th>Div</th>\n",
       "      <th>Date</th>\n",
       "      <th>HomeTeam</th>\n",
       "      <th>AwayTeam</th>\n",
       "      <th>FTHG</th>\n",
       "      <th>FTAG</th>\n",
       "      <th>FTR</th>\n",
       "      <th>HTHG</th>\n",
       "      <th>HTAG</th>\n",
       "      <th>HTR</th>\n",
       "      <th>...</th>\n",
       "      <th>BbAvAHH</th>\n",
       "      <th>BbMxAHA</th>\n",
       "      <th>BbAvAHA</th>\n",
       "      <th>HDCPOH</th>\n",
       "      <th>HDCPOA</th>\n",
       "      <th>CC</th>\n",
       "      <th>PSCH</th>\n",
       "      <th>PSCD</th>\n",
       "      <th>PSCA</th>\n",
       "      <th>result</th>\n",
       "    </tr>\n",
       "  </thead>\n",
       "  <tbody>\n",
       "    <tr>\n",
       "      <th>0</th>\n",
       "      <td>D1</td>\n",
       "      <td>18/8/2017</td>\n",
       "      <td>Bayern Munich</td>\n",
       "      <td>Leverkusen</td>\n",
       "      <td>3</td>\n",
       "      <td>1</td>\n",
       "      <td>H</td>\n",
       "      <td>2</td>\n",
       "      <td>0</td>\n",
       "      <td>H</td>\n",
       "      <td>...</td>\n",
       "      <td>2.18</td>\n",
       "      <td>1.77</td>\n",
       "      <td>1.72</td>\n",
       "      <td>1.00</td>\n",
       "      <td>1.00</td>\n",
       "      <td>D</td>\n",
       "      <td>1.28</td>\n",
       "      <td>6.70</td>\n",
       "      <td>11.30</td>\n",
       "      <td>Draw</td>\n",
       "    </tr>\n",
       "    <tr>\n",
       "      <th>1</th>\n",
       "      <td>D1</td>\n",
       "      <td>19/8/2017</td>\n",
       "      <td>Hamburg</td>\n",
       "      <td>Augsburg</td>\n",
       "      <td>1</td>\n",
       "      <td>0</td>\n",
       "      <td>H</td>\n",
       "      <td>1</td>\n",
       "      <td>0</td>\n",
       "      <td>H</td>\n",
       "      <td>...</td>\n",
       "      <td>1.84</td>\n",
       "      <td>2.07</td>\n",
       "      <td>2.03</td>\n",
       "      <td>1.84</td>\n",
       "      <td>0.00</td>\n",
       "      <td>H</td>\n",
       "      <td>2.32</td>\n",
       "      <td>3.32</td>\n",
       "      <td>3.47</td>\n",
       "      <td>Win</td>\n",
       "    </tr>\n",
       "    <tr>\n",
       "      <th>2</th>\n",
       "      <td>D1</td>\n",
       "      <td>19/8/2017</td>\n",
       "      <td>Hertha</td>\n",
       "      <td>Stuttgart</td>\n",
       "      <td>2</td>\n",
       "      <td>0</td>\n",
       "      <td>H</td>\n",
       "      <td>0</td>\n",
       "      <td>0</td>\n",
       "      <td>D</td>\n",
       "      <td>...</td>\n",
       "      <td>2.05</td>\n",
       "      <td>1.87</td>\n",
       "      <td>1.83</td>\n",
       "      <td>2.05</td>\n",
       "      <td>0.00</td>\n",
       "      <td>H</td>\n",
       "      <td>2.02</td>\n",
       "      <td>3.60</td>\n",
       "      <td>4.07</td>\n",
       "      <td>Win</td>\n",
       "    </tr>\n",
       "    <tr>\n",
       "      <th>3</th>\n",
       "      <td>D1</td>\n",
       "      <td>19/8/2017</td>\n",
       "      <td>Hoffenheim</td>\n",
       "      <td>Werder Bremen</td>\n",
       "      <td>1</td>\n",
       "      <td>0</td>\n",
       "      <td>H</td>\n",
       "      <td>0</td>\n",
       "      <td>0</td>\n",
       "      <td>D</td>\n",
       "      <td>...</td>\n",
       "      <td>1.98</td>\n",
       "      <td>1.91</td>\n",
       "      <td>1.88</td>\n",
       "      <td>1.49</td>\n",
       "      <td>0.50</td>\n",
       "      <td>H</td>\n",
       "      <td>1.85</td>\n",
       "      <td>4.19</td>\n",
       "      <td>4.12</td>\n",
       "      <td>Win</td>\n",
       "    </tr>\n",
       "    <tr>\n",
       "      <th>4</th>\n",
       "      <td>D1</td>\n",
       "      <td>19/8/2017</td>\n",
       "      <td>Mainz</td>\n",
       "      <td>Hannover</td>\n",
       "      <td>0</td>\n",
       "      <td>1</td>\n",
       "      <td>A</td>\n",
       "      <td>0</td>\n",
       "      <td>0</td>\n",
       "      <td>D</td>\n",
       "      <td>...</td>\n",
       "      <td>1.97</td>\n",
       "      <td>1.93</td>\n",
       "      <td>1.89</td>\n",
       "      <td>0.00</td>\n",
       "      <td>1.89</td>\n",
       "      <td>A</td>\n",
       "      <td>1.85</td>\n",
       "      <td>3.75</td>\n",
       "      <td>4.65</td>\n",
       "      <td>Lost</td>\n",
       "    </tr>\n",
       "  </tbody>\n",
       "</table>\n",
       "<p>5 rows × 68 columns</p>\n",
       "</div>"
      ],
      "text/plain": [
       "  Div       Date       HomeTeam       AwayTeam  FTHG  FTAG FTR  HTHG  HTAG  \\\n",
       "0  D1  18/8/2017  Bayern Munich     Leverkusen     3     1   H     2     0   \n",
       "1  D1  19/8/2017        Hamburg       Augsburg     1     0   H     1     0   \n",
       "2  D1  19/8/2017         Hertha      Stuttgart     2     0   H     0     0   \n",
       "3  D1  19/8/2017     Hoffenheim  Werder Bremen     1     0   H     0     0   \n",
       "4  D1  19/8/2017          Mainz       Hannover     0     1   A     0     0   \n",
       "\n",
       "  HTR   ...    BbAvAHH  BbMxAHA  BbAvAHA  HDCPOH  HDCPOA  CC  PSCH  PSCD  \\\n",
       "0   H   ...       2.18     1.77     1.72    1.00    1.00   D  1.28  6.70   \n",
       "1   H   ...       1.84     2.07     2.03    1.84    0.00   H  2.32  3.32   \n",
       "2   D   ...       2.05     1.87     1.83    2.05    0.00   H  2.02  3.60   \n",
       "3   D   ...       1.98     1.91     1.88    1.49    0.50   H  1.85  4.19   \n",
       "4   D   ...       1.97     1.93     1.89    0.00    1.89   A  1.85  3.75   \n",
       "\n",
       "    PSCA  result  \n",
       "0  11.30    Draw  \n",
       "1   3.47     Win  \n",
       "2   4.07     Win  \n",
       "3   4.12     Win  \n",
       "4   4.65    Lost  \n",
       "\n",
       "[5 rows x 68 columns]"
      ]
     },
     "execution_count": 7,
     "metadata": {},
     "output_type": "execute_result"
    }
   ],
   "source": [
    "data_test.head()"
   ]
  },
  {
   "cell_type": "code",
   "execution_count": 116,
   "metadata": {},
   "outputs": [],
   "source": [
    "attributes = list(data_train)\n",
    "remove_attributes = ['Div', 'Date', 'HomeTeam', 'AwayTeam', 'FTHG', 'FTAG', 'FTR', 'HTHG', 'HTAG', 'HTR', 'HS', 'AS', \n",
    "                     'HST', 'AST', 'HF', 'AF', 'HC', 'AC', 'HY', 'AY', 'HR', 'AR', 'HDCPOH', 'HDCPOA', 'result', 'CC']\n",
    "cols = [x for x in attributes if x not in remove_attributes]\n",
    "cols = ['BbMxAHH','BbAvAHH', 'BbAvAHA', 'PSCH', 'PSCA', 'BbMxA']\n",
    "models=[MLPClassifier, LinearSVC, KNeighborsClassifier, RandomForestClassifier, ExtraTreesClassifier, LogisticRegression, QDA]"
   ]
  },
  {
   "cell_type": "code",
   "execution_count": 117,
   "metadata": {},
   "outputs": [
    {
     "name": "stdout",
     "output_type": "stream",
     "text": [
      "MLPClassifier :  0.5511286614003555\n",
      "LinearSVC :  0.5395065159580981\n",
      "KNeighborsClassifier :  0.5407250441988138\n",
      "RandomForestClassifier :  0.5488054688992169\n",
      "ExtraTreesClassifier :  0.5405042337811168\n",
      "LogisticRegression :  0.5517918884769651\n",
      "QuadraticDiscriminantAnalysis :  0.5418319122782101\n"
     ]
    }
   ],
   "source": [
    "for model in models:\n",
    "    kfold = model_selection.KFold(n_splits=5, random_state=0)\n",
    "    results = model_selection.cross_val_score(model(), data_train[cols], data_train.result, cv=kfold, scoring='accuracy')\n",
    "    print(model.__name__, ': ', results.mean())"
   ]
  },
  {
   "cell_type": "markdown",
   "metadata": {},
   "source": [
    "<h2>Multi-layer Perceptron classifier</h2>"
   ]
  },
  {
   "cell_type": "code",
   "execution_count": 123,
   "metadata": {},
   "outputs": [
    {
     "name": "stdout",
     "output_type": "stream",
     "text": [
      "Cross Validation Accuracy:  0.5502435832137558\n"
     ]
    }
   ],
   "source": [
    "MLP = MLPClassifier(hidden_layer_sizes=(20,5), alpha=0, learning_rate='adaptive', \n",
    "                    learning_rate_init=1e-4, max_iter=3000, beta_1=0.9, beta_2=0.999, random_state=0)\n",
    "kfold = model_selection.KFold(n_splits=5, random_state=0)\n",
    "results = model_selection.cross_val_score(MLP, data_train[cols], data_train.result, cv=kfold, scoring='accuracy')\n",
    "print('Cross Validation Accuracy: ', results.mean())"
   ]
  },
  {
   "cell_type": "markdown",
   "metadata": {},
   "source": [
    "<h2>Linear Support Vector Classification</h2>"
   ]
  },
  {
   "cell_type": "code",
   "execution_count": 124,
   "metadata": {},
   "outputs": [
    {
     "name": "stdout",
     "output_type": "stream",
     "text": [
      "Cross Validation Accuracy:  0.5523452919080664\n"
     ]
    }
   ],
   "source": [
    "Linear = LinearSVC(penalty='l1', dual=False)\n",
    "kfold = model_selection.KFold(n_splits=5, random_state=0)\n",
    "results = model_selection.cross_val_score(Linear, data_train[cols], data_train.result, cv=kfold, scoring='accuracy')\n",
    "print('Cross Validation Accuracy: ', results.mean())"
   ]
  },
  {
   "cell_type": "markdown",
   "metadata": {},
   "source": [
    "<h2>K-nearest neighbors</h2>"
   ]
  },
  {
   "cell_type": "code",
   "execution_count": 127,
   "metadata": {},
   "outputs": [
    {
     "name": "stdout",
     "output_type": "stream",
     "text": [
      "Cross Validation Accuracy:  0.5669558158782708\n"
     ]
    }
   ],
   "source": [
    "KNN = KNeighborsClassifier(n_neighbors=100)\n",
    "kfold = model_selection.KFold(n_splits=5, random_state=0)\n",
    "results = model_selection.cross_val_score(KNN, data_train[cols], data_train.result, cv=kfold, scoring='accuracy')\n",
    "print('Cross Validation Accuracy: ', results.mean())"
   ]
  },
  {
   "cell_type": "markdown",
   "metadata": {},
   "source": [
    "<h2>Random Forest</h2>"
   ]
  },
  {
   "cell_type": "code",
   "execution_count": 133,
   "metadata": {},
   "outputs": [
    {
     "name": "stdout",
     "output_type": "stream",
     "text": [
      "Cross Validation Accuracy:  0.5545593953700212\n"
     ]
    }
   ],
   "source": [
    "RF = RandomForestClassifier(n_estimators=80, min_samples_split=4, min_samples_leaf=3, random_state=0)\n",
    "kfold = model_selection.KFold(n_splits=5, random_state=0)\n",
    "results = model_selection.cross_val_score(RF, data_train[cols], data_train.result, cv=kfold, scoring='accuracy')\n",
    "print('Cross Validation Accuracy: ', results.mean())"
   ]
  },
  {
   "cell_type": "markdown",
   "metadata": {},
   "source": [
    "<h2>Extra Trees</h2>"
   ]
  },
  {
   "cell_type": "code",
   "execution_count": 134,
   "metadata": {},
   "outputs": [
    {
     "name": "stdout",
     "output_type": "stream",
     "text": [
      "Cross Validation Accuracy:  0.5569950438559975\n"
     ]
    }
   ],
   "source": [
    "ET = ExtraTreesClassifier(n_estimators=50, min_samples_split=20, min_samples_leaf=4, random_state=0)\n",
    "kfold = model_selection.KFold(n_splits=5, random_state=0)\n",
    "results = model_selection.cross_val_score(ET, data_train[cols], data_train.result, cv=kfold, scoring='accuracy')\n",
    "print('Cross Validation Accuracy: ', results.mean())"
   ]
  },
  {
   "cell_type": "markdown",
   "metadata": {},
   "source": [
    "<h2>Logistic Regression</h2>"
   ]
  },
  {
   "cell_type": "code",
   "execution_count": 135,
   "metadata": {},
   "outputs": [
    {
     "name": "stdout",
     "output_type": "stream",
     "text": [
      "Cross Validation Accuracy:  0.552677395183921\n"
     ]
    }
   ],
   "source": [
    "LR = LogisticRegression(penalty='l1')\n",
    "kfold = model_selection.KFold(n_splits=5, random_state=0)\n",
    "results = model_selection.cross_val_score(LR, data_train[cols], data_train.result, cv=kfold, scoring='accuracy')\n",
    "print('Cross Validation Accuracy: ', results.mean())"
   ]
  },
  {
   "cell_type": "markdown",
   "metadata": {},
   "source": [
    "<h2>Quadratic Discriminant Analysis</h2>"
   ]
  },
  {
   "cell_type": "code",
   "execution_count": 136,
   "metadata": {},
   "outputs": [
    {
     "name": "stdout",
     "output_type": "stream",
     "text": [
      "Cross Validation Accuracy:  0.5418319122782101\n"
     ]
    }
   ],
   "source": [
    "QDA_model = QDA()\n",
    "kfold = model_selection.KFold(n_splits=5, random_state=0)\n",
    "results = model_selection.cross_val_score(QDA_model, data_train[cols], data_train.result, cv=kfold, scoring='accuracy')\n",
    "print('Cross Validation Accuracy: ', results.mean())"
   ]
  },
  {
   "cell_type": "markdown",
   "metadata": {},
   "source": [
    "<h2>Binary Classification</h2>"
   ]
  },
  {
   "cell_type": "markdown",
   "metadata": {},
   "source": [
    "<p>The result is divided into two group - 'win' and 'lost'.</p>\n",
    "<ul>\n",
    "    <li>'win' - The home team win after including handicup.</li>\n",
    "    <li>'lost' - The home team lost/draw after including the handicup.</li>\n",
    "</ul>"
   ]
  },
  {
   "cell_type": "code",
   "execution_count": 69,
   "metadata": {},
   "outputs": [],
   "source": [
    "for data in [data_train, data_test]:\n",
    "    data['result'] = np.where(data.HDCPOH > data.HDCPOA, 1, 0)\n",
    "data_noDraw = data_train[data_train.HDCPOH!=data_train.HDCPOA]"
   ]
  },
  {
   "cell_type": "code",
   "execution_count": 82,
   "metadata": {},
   "outputs": [],
   "source": [
    "X =data_noDraw[cols]\n",
    "y=data_noDraw.result"
   ]
  },
  {
   "cell_type": "code",
   "execution_count": 71,
   "metadata": {},
   "outputs": [
    {
     "name": "stdout",
     "output_type": "stream",
     "text": [
      "Optimization terminated successfully.\n",
      "         Current function value: 0.684254\n",
      "         Iterations 5\n",
      "                           Logit Regression Results                           \n",
      "==============================================================================\n",
      "Dep. Variable:                      y   No. Observations:                 8181\n",
      "Model:                          Logit   Df Residuals:                     8139\n",
      "Method:                           MLE   Df Model:                           41\n",
      "Date:                Thu, 15 Mar 2018   Pseudo R-squ.:                 0.01280\n",
      "Time:                        20:31:37   Log-Likelihood:                -5597.9\n",
      "converged:                       True   LL-Null:                       -5670.5\n",
      "                                        LLR p-value:                 1.463e-13\n",
      "==============================================================================\n",
      "                 coef    std err          z      P>|z|      [0.025      0.975]\n",
      "------------------------------------------------------------------------------\n",
      "x1             0.1320      0.131      1.006      0.314      -0.125       0.389\n",
      "x2            -0.1526      0.137     -1.114      0.265      -0.421       0.116\n",
      "x3            -0.0332      0.038     -0.880      0.379      -0.107       0.041\n",
      "x4            -0.0632      0.104     -0.605      0.545      -0.268       0.141\n",
      "x5            -0.0179      0.118     -0.152      0.879      -0.249       0.213\n",
      "x6             0.0231      0.038      0.610      0.542      -0.051       0.097\n",
      "x7             0.0149      0.094      0.158      0.874      -0.170       0.200\n",
      "x8            -0.0858      0.130     -0.662      0.508      -0.340       0.168\n",
      "x9            -0.0498      0.049     -1.017      0.309      -0.146       0.046\n",
      "x10           -0.0396      0.130     -0.303      0.762      -0.295       0.216\n",
      "x11            0.1167      0.152      0.769      0.442      -0.181       0.414\n",
      "x12           -0.0231      0.039     -0.598      0.550      -0.099       0.053\n",
      "x13            0.3731      0.179      2.084      0.037       0.022       0.724\n",
      "x14           -0.1281      0.207     -0.619      0.536      -0.533       0.277\n",
      "x15           -0.0728      0.046     -1.582      0.114      -0.163       0.017\n",
      "x16            0.1881      0.123      1.531      0.126      -0.053       0.429\n",
      "x17            0.0371      0.110      0.336      0.737      -0.179       0.253\n",
      "x18            0.0147      0.038      0.384      0.701      -0.060       0.090\n",
      "x19           -0.0298      0.122     -0.243      0.808      -0.270       0.210\n",
      "x20            0.1094      0.148      0.738      0.460      -0.181       0.400\n",
      "x21            0.0336      0.034      0.980      0.327      -0.034       0.101\n",
      "x22            0.0103      0.009      1.153      0.249      -0.007       0.028\n",
      "x23           -0.0285      0.169     -0.169      0.866      -0.360       0.303\n",
      "x24           -0.2691      0.356     -0.755      0.450      -0.967       0.429\n",
      "x25            0.3905      0.175      2.231      0.026       0.047       0.733\n",
      "x26           -0.0314      0.392     -0.080      0.936      -0.800       0.737\n",
      "x27           -0.0937      0.046     -2.033      0.042      -0.184      -0.003\n",
      "x28            0.0762      0.114      0.671      0.502      -0.146       0.299\n",
      "x29           -0.0046      0.007     -0.676      0.499      -0.018       0.009\n",
      "x30           -1.5105      0.927     -1.629      0.103      -3.328       0.307\n",
      "x31            1.3574      1.042      1.303      0.193      -0.685       3.400\n",
      "x32            0.3414      0.566      0.603      0.546      -0.768       1.451\n",
      "x33           -0.5629      0.703     -0.800      0.423      -1.941       0.815\n",
      "x34           -0.0061      0.009     -0.673      0.501      -0.024       0.012\n",
      "x35            0.0992      0.153      0.647      0.518      -0.201       0.400\n",
      "x36            2.1149      1.121      1.887      0.059      -0.082       4.311\n",
      "x37           -2.4963      1.211     -2.061      0.039      -4.870      -0.123\n",
      "x38           -1.6189      1.051     -1.540      0.124      -3.679       0.441\n",
      "x39            2.2744      1.141      1.993      0.046       0.037       4.512\n",
      "x40           -0.3677      0.064     -5.702      0.000      -0.494      -0.241\n",
      "x41           -0.1036      0.084     -1.229      0.219      -0.269       0.062\n",
      "x42            0.0903      0.028      3.171      0.002       0.035       0.146\n",
      "==============================================================================\n"
     ]
    }
   ],
   "source": [
    "logit_model = sm.Logit(np.asarray(y.astype(float)), np.asarray(X.astype(float)))\n",
    "result = logit_model.fit()\n",
    "print(result.summary())"
   ]
  },
  {
   "cell_type": "code",
   "execution_count": 108,
   "metadata": {
    "scrolled": true
   },
   "outputs": [
    {
     "ename": "IndexError",
     "evalue": "list index out of range",
     "output_type": "error",
     "traceback": [
      "\u001b[1;31m---------------------------------------------------------------------------\u001b[0m",
      "\u001b[1;31mIndexError\u001b[0m                                Traceback (most recent call last)",
      "\u001b[1;32m<ipython-input-108-3e9a2c45720c>\u001b[0m in \u001b[0;36m<module>\u001b[1;34m()\u001b[0m\n\u001b[1;32m----> 1\u001b[1;33m \u001b[0mprint\u001b[0m\u001b[1;33m(\u001b[0m\u001b[0mcols\u001b[0m\u001b[1;33m[\u001b[0m\u001b[1;36m35\u001b[0m\u001b[1;33m]\u001b[0m\u001b[1;33m,\u001b[0m \u001b[0mcols\u001b[0m\u001b[1;33m[\u001b[0m\u001b[1;36m36\u001b[0m\u001b[1;33m]\u001b[0m\u001b[1;33m,\u001b[0m \u001b[0mcols\u001b[0m\u001b[1;33m[\u001b[0m\u001b[1;36m38\u001b[0m\u001b[1;33m]\u001b[0m\u001b[1;33m,\u001b[0m \u001b[0mcols\u001b[0m\u001b[1;33m[\u001b[0m\u001b[1;36m39\u001b[0m\u001b[1;33m]\u001b[0m\u001b[1;33m,\u001b[0m \u001b[0mcols\u001b[0m\u001b[1;33m[\u001b[0m\u001b[1;36m41\u001b[0m\u001b[1;33m]\u001b[0m\u001b[1;33m,\u001b[0m \u001b[0mcols\u001b[0m\u001b[1;33m[\u001b[0m\u001b[1;36m26\u001b[0m\u001b[1;33m]\u001b[0m\u001b[1;33m)\u001b[0m\u001b[1;33m\u001b[0m\u001b[0m\n\u001b[0m",
      "\u001b[1;31mIndexError\u001b[0m: list index out of range"
     ]
    }
   ],
   "source": [
    "print(cols[35], cols[36], cols[38], cols[39], cols[41], cols[26])"
   ]
  },
  {
   "cell_type": "code",
   "execution_count": 110,
   "metadata": {},
   "outputs": [],
   "source": [
    "cols = ['BbMxAHH','BbAvAHH', 'BbAvAHA', 'PSCH', 'PSCA', 'BbMxA']\n",
    "X_train, X_test, y_train, y_test = train_test_split(data_noDraw[cols], data_noDraw.result, test_size=0.2, random_state=0)"
   ]
  },
  {
   "cell_type": "code",
   "execution_count": 111,
   "metadata": {},
   "outputs": [],
   "source": [
    "def classification_coef(index):\n",
    "    classification = LogisticRegression()\n",
    "    classification.fit(X_train, y_train)\n",
    "    return classification.intercept_, classification.coef_"
   ]
  },
  {
   "cell_type": "code",
   "execution_count": 112,
   "metadata": {},
   "outputs": [
    {
     "name": "stdout",
     "output_type": "stream",
     "text": [
      "0.0 %\n",
      "5.0 %\n",
      "10.0 %\n",
      "15.0 %\n",
      "20.0 %\n",
      "25.0 %\n",
      "30.0 %\n",
      "35.0 %\n",
      "40.0 %\n",
      "45.0 %\n",
      "50.0 %\n",
      "55.0 %\n",
      "60.0 %\n",
      "65.0 %\n",
      "70.0 %\n",
      "75.0 %\n",
      "80.0 %\n",
      "85.0 %\n",
      "90.0 %\n",
      "95.0 %\n"
     ]
    }
   ],
   "source": [
    "coef = []\n",
    "intercept = []\n",
    "for i in range(1000):\n",
    "    new_intercept, new_coef = classification_coef(index=randint(len(X), size=len(X)))\n",
    "    coef.append(new_coef.tolist()[0])\n",
    "    intercept.append(new_intercept.tolist()[0])\n",
    "    if (i%50==0):\n",
    "        print(i/10, '%')"
   ]
  },
  {
   "cell_type": "code",
   "execution_count": 137,
   "metadata": {
    "scrolled": true
   },
   "outputs": [
    {
     "name": "stdout",
     "output_type": "stream",
     "text": [
      "Intercept [Mean]:  -0.059087048902554555\n",
      "Intercept [SD]:  2.0816681711721685e-17\n",
      "Coefficient [Mean]:  [ 0.34279878 -0.78415802  0.42039228 -0.00652029  0.04913552 -0.02999692]\n",
      "Coefficient [SD]:  [3.77475828e-15 1.33226763e-14 2.10942375e-15 9.97465999e-17\n",
      " 1.00613962e-15 5.13478149e-16]\n"
     ]
    }
   ],
   "source": [
    "print('Intercept [Mean]: ', np.mean(intercept))\n",
    "print('Intercept [SD]: ', np.std(intercept))\n",
    "print('Coefficient [Mean]: ', np.mean(coef, axis=0))\n",
    "print('Coefficient [SD]: ', np.std(coef, axis=0))"
   ]
  },
  {
   "cell_type": "code",
   "execution_count": 114,
   "metadata": {},
   "outputs": [
    {
     "data": {
      "text/plain": [
       "0.5271838729383018"
      ]
     },
     "execution_count": 114,
     "metadata": {},
     "output_type": "execute_result"
    }
   ],
   "source": [
    "classification = LogisticRegression()\n",
    "classification.fit(X_train, y_train)\n",
    "classification.score(X_test, y_test)"
   ]
  },
  {
   "cell_type": "code",
   "execution_count": null,
   "metadata": {},
   "outputs": [],
   "source": []
  }
 ],
 "metadata": {
  "kernelspec": {
   "display_name": "Python [conda env:py36]",
   "language": "python",
   "name": "conda-env-py36-py"
  },
  "language_info": {
   "codemirror_mode": {
    "name": "ipython",
    "version": 3
   },
   "file_extension": ".py",
   "mimetype": "text/x-python",
   "name": "python",
   "nbconvert_exporter": "python",
   "pygments_lexer": "ipython3",
   "version": "3.6.4"
  }
 },
 "nbformat": 4,
 "nbformat_minor": 2
}
