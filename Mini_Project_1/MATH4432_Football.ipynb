{
 "cells": [
  {
   "cell_type": "markdown",
   "metadata": {},
   "source": [
    "<h2>Import Libraries</h2>"
   ]
  },
  {
   "cell_type": "code",
   "execution_count": 3,
   "metadata": {},
   "outputs": [
    {
     "name": "stderr",
     "output_type": "stream",
     "text": [
      "C:\\Users\\Henry\\Anaconda3\\envs\\py36\\lib\\site-packages\\sklearn\\cross_validation.py:41: DeprecationWarning: This module was deprecated in version 0.18 in favor of the model_selection module into which all the refactored classes and functions are moved. Also note that the interface of the new CV iterators are different from that of this module. This module will be removed in 0.20.\n",
      "  \"This module will be removed in 0.20.\", DeprecationWarning)\n",
      "C:\\Users\\Henry\\Anaconda3\\envs\\py36\\lib\\site-packages\\statsmodels\\compat\\pandas.py:56: FutureWarning: The pandas.core.datetools module is deprecated and will be removed in a future version. Please use the pandas.tseries module instead.\n",
      "  from pandas.core import datetools\n"
     ]
    }
   ],
   "source": [
    "import csv\n",
    "from sklearn.linear_model import LogisticRegression\n",
    "from sklearn.cross_validation import train_test_split \n",
    "from sklearn import metrics\n",
    "from sklearn import model_selection\n",
    "from sklearn.model_selection import cross_val_score\n",
    "from sklearn.svm import LinearSVC, SVC\n",
    "from sklearn.neighbors import KNeighborsClassifier\n",
    "from sklearn.ensemble import RandomForestClassifier, ExtraTreesClassifier\n",
    "from sklearn.neural_network import MLPClassifier\n",
    "from sklearn.discriminant_analysis import QuadraticDiscriminantAnalysis as QDA\n",
    "from sklearn.metrics import roc_curve, roc_auc_score\n",
    "import seaborn as sns\n",
    "import matplotlib.pyplot as plt\n",
    "import pandas as pd\n",
    "import numpy as np\n",
    "from scipy import stats\n",
    "stats.chisqprob = lambda chisq, df: stats.chi2.sf(chisq, df)\n",
    "import statsmodels.api as sm"
   ]
  },
  {
   "cell_type": "code",
   "execution_count": 4,
   "metadata": {},
   "outputs": [],
   "source": [
    "sns.set(style=\"white\")\n",
    "sns.set(style=\"whitegrid\", color_codes=True)"
   ]
  },
  {
   "cell_type": "code",
   "execution_count": 5,
   "metadata": {},
   "outputs": [],
   "source": [
    "data_train = pd.read_csv('Football_data_training_new.csv', header=0)\n",
    "data_test = pd.read_csv('Football_data_test_new.csv', header=0)"
   ]
  },
  {
   "cell_type": "code",
   "execution_count": 6,
   "metadata": {},
   "outputs": [
    {
     "name": "stdout",
     "output_type": "stream",
     "text": [
      "(Rows, Columns):(9036, 67)\n",
      "(Rows, Columns):(1372, 67)\n"
     ]
    }
   ],
   "source": [
    "data_train = data_train.dropna()\n",
    "data_test = data_test.dropna()\n",
    "print(\"(Rows, Columns):{0}\".format(data_train.shape))\n",
    "print(\"(Rows, Columns):{0}\".format(data_test.shape))"
   ]
  },
  {
   "cell_type": "code",
   "execution_count": 7,
   "metadata": {},
   "outputs": [
    {
     "data": {
      "text/html": [
       "<div>\n",
       "<style scoped>\n",
       "    .dataframe tbody tr th:only-of-type {\n",
       "        vertical-align: middle;\n",
       "    }\n",
       "\n",
       "    .dataframe tbody tr th {\n",
       "        vertical-align: top;\n",
       "    }\n",
       "\n",
       "    .dataframe thead th {\n",
       "        text-align: right;\n",
       "    }\n",
       "</style>\n",
       "<table border=\"1\" class=\"dataframe\">\n",
       "  <thead>\n",
       "    <tr style=\"text-align: right;\">\n",
       "      <th></th>\n",
       "      <th>Div</th>\n",
       "      <th>Date</th>\n",
       "      <th>HomeTeam</th>\n",
       "      <th>AwayTeam</th>\n",
       "      <th>FTHG</th>\n",
       "      <th>FTAG</th>\n",
       "      <th>FTR</th>\n",
       "      <th>HTHG</th>\n",
       "      <th>HTAG</th>\n",
       "      <th>HTR</th>\n",
       "      <th>...</th>\n",
       "      <th>BbMxAHH</th>\n",
       "      <th>BbAvAHH</th>\n",
       "      <th>BbMxAHA</th>\n",
       "      <th>BbAvAHA</th>\n",
       "      <th>HDCPOH</th>\n",
       "      <th>HDCPOA</th>\n",
       "      <th>CC</th>\n",
       "      <th>PSCH</th>\n",
       "      <th>PSCD</th>\n",
       "      <th>PSCA</th>\n",
       "    </tr>\n",
       "  </thead>\n",
       "  <tbody>\n",
       "    <tr>\n",
       "      <th>0</th>\n",
       "      <td>E0</td>\n",
       "      <td>8/8/2015</td>\n",
       "      <td>Bournemouth</td>\n",
       "      <td>Aston Villa</td>\n",
       "      <td>0</td>\n",
       "      <td>1</td>\n",
       "      <td>A</td>\n",
       "      <td>0.0</td>\n",
       "      <td>0.0</td>\n",
       "      <td>D</td>\n",
       "      <td>...</td>\n",
       "      <td>1.98</td>\n",
       "      <td>1.93</td>\n",
       "      <td>1.99</td>\n",
       "      <td>1.92</td>\n",
       "      <td>0.00</td>\n",
       "      <td>1.92</td>\n",
       "      <td>A</td>\n",
       "      <td>1.82</td>\n",
       "      <td>3.88</td>\n",
       "      <td>4.70</td>\n",
       "    </tr>\n",
       "    <tr>\n",
       "      <th>1</th>\n",
       "      <td>E0</td>\n",
       "      <td>8/8/2015</td>\n",
       "      <td>Chelsea</td>\n",
       "      <td>Swansea</td>\n",
       "      <td>2</td>\n",
       "      <td>2</td>\n",
       "      <td>D</td>\n",
       "      <td>2.0</td>\n",
       "      <td>1.0</td>\n",
       "      <td>H</td>\n",
       "      <td>...</td>\n",
       "      <td>2.24</td>\n",
       "      <td>2.16</td>\n",
       "      <td>1.80</td>\n",
       "      <td>1.73</td>\n",
       "      <td>0.00</td>\n",
       "      <td>1.73</td>\n",
       "      <td>A</td>\n",
       "      <td>1.37</td>\n",
       "      <td>5.04</td>\n",
       "      <td>10.88</td>\n",
       "    </tr>\n",
       "    <tr>\n",
       "      <th>2</th>\n",
       "      <td>E0</td>\n",
       "      <td>8/8/2015</td>\n",
       "      <td>Everton</td>\n",
       "      <td>Watford</td>\n",
       "      <td>2</td>\n",
       "      <td>2</td>\n",
       "      <td>D</td>\n",
       "      <td>0.0</td>\n",
       "      <td>1.0</td>\n",
       "      <td>A</td>\n",
       "      <td>...</td>\n",
       "      <td>2.28</td>\n",
       "      <td>2.18</td>\n",
       "      <td>1.76</td>\n",
       "      <td>1.71</td>\n",
       "      <td>0.00</td>\n",
       "      <td>1.71</td>\n",
       "      <td>A</td>\n",
       "      <td>1.75</td>\n",
       "      <td>3.76</td>\n",
       "      <td>5.44</td>\n",
       "    </tr>\n",
       "    <tr>\n",
       "      <th>3</th>\n",
       "      <td>E0</td>\n",
       "      <td>8/8/2015</td>\n",
       "      <td>Leicester</td>\n",
       "      <td>Sunderland</td>\n",
       "      <td>4</td>\n",
       "      <td>2</td>\n",
       "      <td>H</td>\n",
       "      <td>3.0</td>\n",
       "      <td>0.0</td>\n",
       "      <td>H</td>\n",
       "      <td>...</td>\n",
       "      <td>2.00</td>\n",
       "      <td>1.95</td>\n",
       "      <td>1.96</td>\n",
       "      <td>1.90</td>\n",
       "      <td>1.95</td>\n",
       "      <td>0.00</td>\n",
       "      <td>H</td>\n",
       "      <td>1.79</td>\n",
       "      <td>3.74</td>\n",
       "      <td>5.10</td>\n",
       "    </tr>\n",
       "    <tr>\n",
       "      <th>4</th>\n",
       "      <td>E0</td>\n",
       "      <td>8/8/2015</td>\n",
       "      <td>Man United</td>\n",
       "      <td>Tottenham</td>\n",
       "      <td>1</td>\n",
       "      <td>0</td>\n",
       "      <td>H</td>\n",
       "      <td>1.0</td>\n",
       "      <td>0.0</td>\n",
       "      <td>H</td>\n",
       "      <td>...</td>\n",
       "      <td>2.20</td>\n",
       "      <td>2.09</td>\n",
       "      <td>1.82</td>\n",
       "      <td>1.78</td>\n",
       "      <td>1.00</td>\n",
       "      <td>1.00</td>\n",
       "      <td>H</td>\n",
       "      <td>1.64</td>\n",
       "      <td>4.07</td>\n",
       "      <td>6.04</td>\n",
       "    </tr>\n",
       "  </tbody>\n",
       "</table>\n",
       "<p>5 rows × 67 columns</p>\n",
       "</div>"
      ],
      "text/plain": [
       "  Div      Date     HomeTeam     AwayTeam  FTHG  FTAG FTR  HTHG  HTAG HTR  \\\n",
       "0  E0  8/8/2015  Bournemouth  Aston Villa     0     1   A   0.0   0.0   D   \n",
       "1  E0  8/8/2015      Chelsea      Swansea     2     2   D   2.0   1.0   H   \n",
       "2  E0  8/8/2015      Everton      Watford     2     2   D   0.0   1.0   A   \n",
       "3  E0  8/8/2015    Leicester   Sunderland     4     2   H   3.0   0.0   H   \n",
       "4  E0  8/8/2015   Man United    Tottenham     1     0   H   1.0   0.0   H   \n",
       "\n",
       "   ...    BbMxAHH  BbAvAHH  BbMxAHA  BbAvAHA  HDCPOH  HDCPOA  CC  PSCH  PSCD  \\\n",
       "0  ...       1.98     1.93     1.99     1.92    0.00    1.92   A  1.82  3.88   \n",
       "1  ...       2.24     2.16     1.80     1.73    0.00    1.73   A  1.37  5.04   \n",
       "2  ...       2.28     2.18     1.76     1.71    0.00    1.71   A  1.75  3.76   \n",
       "3  ...       2.00     1.95     1.96     1.90    1.95    0.00   H  1.79  3.74   \n",
       "4  ...       2.20     2.09     1.82     1.78    1.00    1.00   H  1.64  4.07   \n",
       "\n",
       "    PSCA  \n",
       "0   4.70  \n",
       "1  10.88  \n",
       "2   5.44  \n",
       "3   5.10  \n",
       "4   6.04  \n",
       "\n",
       "[5 rows x 67 columns]"
      ]
     },
     "execution_count": 7,
     "metadata": {},
     "output_type": "execute_result"
    }
   ],
   "source": [
    "data_train.head()"
   ]
  },
  {
   "cell_type": "markdown",
   "metadata": {},
   "source": [
    "<h3>Rough Model Finding</h3>"
   ]
  },
  {
   "cell_type": "code",
   "execution_count": 8,
   "metadata": {},
   "outputs": [],
   "source": [
    "for data in [data_train, data_test]:\n",
    "    data['result'] = np.where(data.HDCPOH > data.HDCPOA, \"Win\", \"Lost\")\n",
    "    data['result'] = np.where(data.HDCPOH == data.HDCPOA, \"Draw\", data['result'])"
   ]
  },
  {
   "cell_type": "code",
   "execution_count": 9,
   "metadata": {},
   "outputs": [
    {
     "data": {
      "text/html": [
       "<div>\n",
       "<style scoped>\n",
       "    .dataframe tbody tr th:only-of-type {\n",
       "        vertical-align: middle;\n",
       "    }\n",
       "\n",
       "    .dataframe tbody tr th {\n",
       "        vertical-align: top;\n",
       "    }\n",
       "\n",
       "    .dataframe thead th {\n",
       "        text-align: right;\n",
       "    }\n",
       "</style>\n",
       "<table border=\"1\" class=\"dataframe\">\n",
       "  <thead>\n",
       "    <tr style=\"text-align: right;\">\n",
       "      <th></th>\n",
       "      <th>Div</th>\n",
       "      <th>Date</th>\n",
       "      <th>HomeTeam</th>\n",
       "      <th>AwayTeam</th>\n",
       "      <th>FTHG</th>\n",
       "      <th>FTAG</th>\n",
       "      <th>FTR</th>\n",
       "      <th>HTHG</th>\n",
       "      <th>HTAG</th>\n",
       "      <th>HTR</th>\n",
       "      <th>...</th>\n",
       "      <th>BbAvAHH</th>\n",
       "      <th>BbMxAHA</th>\n",
       "      <th>BbAvAHA</th>\n",
       "      <th>HDCPOH</th>\n",
       "      <th>HDCPOA</th>\n",
       "      <th>CC</th>\n",
       "      <th>PSCH</th>\n",
       "      <th>PSCD</th>\n",
       "      <th>PSCA</th>\n",
       "      <th>result</th>\n",
       "    </tr>\n",
       "  </thead>\n",
       "  <tbody>\n",
       "    <tr>\n",
       "      <th>0</th>\n",
       "      <td>D1</td>\n",
       "      <td>18/8/2017</td>\n",
       "      <td>Bayern Munich</td>\n",
       "      <td>Leverkusen</td>\n",
       "      <td>3</td>\n",
       "      <td>1</td>\n",
       "      <td>H</td>\n",
       "      <td>2</td>\n",
       "      <td>0</td>\n",
       "      <td>H</td>\n",
       "      <td>...</td>\n",
       "      <td>2.18</td>\n",
       "      <td>1.77</td>\n",
       "      <td>1.72</td>\n",
       "      <td>1.00</td>\n",
       "      <td>1.00</td>\n",
       "      <td>D</td>\n",
       "      <td>1.28</td>\n",
       "      <td>6.70</td>\n",
       "      <td>11.30</td>\n",
       "      <td>Draw</td>\n",
       "    </tr>\n",
       "    <tr>\n",
       "      <th>1</th>\n",
       "      <td>D1</td>\n",
       "      <td>19/8/2017</td>\n",
       "      <td>Hamburg</td>\n",
       "      <td>Augsburg</td>\n",
       "      <td>1</td>\n",
       "      <td>0</td>\n",
       "      <td>H</td>\n",
       "      <td>1</td>\n",
       "      <td>0</td>\n",
       "      <td>H</td>\n",
       "      <td>...</td>\n",
       "      <td>1.84</td>\n",
       "      <td>2.07</td>\n",
       "      <td>2.03</td>\n",
       "      <td>1.84</td>\n",
       "      <td>0.00</td>\n",
       "      <td>H</td>\n",
       "      <td>2.32</td>\n",
       "      <td>3.32</td>\n",
       "      <td>3.47</td>\n",
       "      <td>Win</td>\n",
       "    </tr>\n",
       "    <tr>\n",
       "      <th>2</th>\n",
       "      <td>D1</td>\n",
       "      <td>19/8/2017</td>\n",
       "      <td>Hertha</td>\n",
       "      <td>Stuttgart</td>\n",
       "      <td>2</td>\n",
       "      <td>0</td>\n",
       "      <td>H</td>\n",
       "      <td>0</td>\n",
       "      <td>0</td>\n",
       "      <td>D</td>\n",
       "      <td>...</td>\n",
       "      <td>2.05</td>\n",
       "      <td>1.87</td>\n",
       "      <td>1.83</td>\n",
       "      <td>2.05</td>\n",
       "      <td>0.00</td>\n",
       "      <td>H</td>\n",
       "      <td>2.02</td>\n",
       "      <td>3.60</td>\n",
       "      <td>4.07</td>\n",
       "      <td>Win</td>\n",
       "    </tr>\n",
       "    <tr>\n",
       "      <th>3</th>\n",
       "      <td>D1</td>\n",
       "      <td>19/8/2017</td>\n",
       "      <td>Hoffenheim</td>\n",
       "      <td>Werder Bremen</td>\n",
       "      <td>1</td>\n",
       "      <td>0</td>\n",
       "      <td>H</td>\n",
       "      <td>0</td>\n",
       "      <td>0</td>\n",
       "      <td>D</td>\n",
       "      <td>...</td>\n",
       "      <td>1.98</td>\n",
       "      <td>1.91</td>\n",
       "      <td>1.88</td>\n",
       "      <td>1.49</td>\n",
       "      <td>0.50</td>\n",
       "      <td>H</td>\n",
       "      <td>1.85</td>\n",
       "      <td>4.19</td>\n",
       "      <td>4.12</td>\n",
       "      <td>Win</td>\n",
       "    </tr>\n",
       "    <tr>\n",
       "      <th>4</th>\n",
       "      <td>D1</td>\n",
       "      <td>19/8/2017</td>\n",
       "      <td>Mainz</td>\n",
       "      <td>Hannover</td>\n",
       "      <td>0</td>\n",
       "      <td>1</td>\n",
       "      <td>A</td>\n",
       "      <td>0</td>\n",
       "      <td>0</td>\n",
       "      <td>D</td>\n",
       "      <td>...</td>\n",
       "      <td>1.97</td>\n",
       "      <td>1.93</td>\n",
       "      <td>1.89</td>\n",
       "      <td>0.00</td>\n",
       "      <td>1.89</td>\n",
       "      <td>A</td>\n",
       "      <td>1.85</td>\n",
       "      <td>3.75</td>\n",
       "      <td>4.65</td>\n",
       "      <td>Lost</td>\n",
       "    </tr>\n",
       "  </tbody>\n",
       "</table>\n",
       "<p>5 rows × 68 columns</p>\n",
       "</div>"
      ],
      "text/plain": [
       "  Div       Date       HomeTeam       AwayTeam  FTHG  FTAG FTR  HTHG  HTAG  \\\n",
       "0  D1  18/8/2017  Bayern Munich     Leverkusen     3     1   H     2     0   \n",
       "1  D1  19/8/2017        Hamburg       Augsburg     1     0   H     1     0   \n",
       "2  D1  19/8/2017         Hertha      Stuttgart     2     0   H     0     0   \n",
       "3  D1  19/8/2017     Hoffenheim  Werder Bremen     1     0   H     0     0   \n",
       "4  D1  19/8/2017          Mainz       Hannover     0     1   A     0     0   \n",
       "\n",
       "  HTR   ...    BbAvAHH  BbMxAHA  BbAvAHA  HDCPOH  HDCPOA  CC  PSCH  PSCD  \\\n",
       "0   H   ...       2.18     1.77     1.72    1.00    1.00   D  1.28  6.70   \n",
       "1   H   ...       1.84     2.07     2.03    1.84    0.00   H  2.32  3.32   \n",
       "2   D   ...       2.05     1.87     1.83    2.05    0.00   H  2.02  3.60   \n",
       "3   D   ...       1.98     1.91     1.88    1.49    0.50   H  1.85  4.19   \n",
       "4   D   ...       1.97     1.93     1.89    0.00    1.89   A  1.85  3.75   \n",
       "\n",
       "    PSCA  result  \n",
       "0  11.30    Draw  \n",
       "1   3.47     Win  \n",
       "2   4.07     Win  \n",
       "3   4.12     Win  \n",
       "4   4.65    Lost  \n",
       "\n",
       "[5 rows x 68 columns]"
      ]
     },
     "execution_count": 9,
     "metadata": {},
     "output_type": "execute_result"
    }
   ],
   "source": [
    "data_test.head()"
   ]
  },
  {
   "cell_type": "code",
   "execution_count": 10,
   "metadata": {},
   "outputs": [],
   "source": [
    "attributes = list(data_train)\n",
    "remove_attributes = ['Div', 'Date', 'HomeTeam', 'AwayTeam', 'FTHG', 'FTAG', 'FTR', 'HTHG', 'HTAG', 'HTR', 'HS', 'AS', \n",
    "                     'HST', 'AST', 'HF', 'AF', 'HC', 'AC', 'HY', 'AY', 'HR', 'AR', 'HDCPOH', 'HDCPOA', 'result', 'CC']\n",
    "cols = [x for x in attributes if x not in remove_attributes]\n",
    "models=[MLPClassifier, LinearSVC, KNeighborsClassifier, RandomForestClassifier, ExtraTreesClassifier, LogisticRegression, QDA]"
   ]
  },
  {
   "cell_type": "code",
   "execution_count": 11,
   "metadata": {},
   "outputs": [
    {
     "name": "stdout",
     "output_type": "stream",
     "text": [
      "MLPClassifier :  0.4547328848969837\n",
      "LinearSVC :  0.42507444010754636\n",
      "KNeighborsClassifier :  0.43891007683982153\n",
      "RandomForestClassifier :  0.4640312256661655\n",
      "ExtraTreesClassifier :  0.45540143786944576\n",
      "LogisticRegression :  0.47609444098907394\n",
      "QuadraticDiscriminantAnalysis :  0.4331529670749445\n"
     ]
    }
   ],
   "source": [
    "for model in models:\n",
    "    kfold = model_selection.KFold(n_splits=5, random_state=0)\n",
    "    results = model_selection.cross_val_score(model(), data_train[cols], data_train.result, cv=kfold, scoring='accuracy')\n",
    "    print(model.__name__, ': ', results.mean())"
   ]
  },
  {
   "cell_type": "markdown",
   "metadata": {},
   "source": [
    "<h2>Multi-layer Perceptron classifier</h2>"
   ]
  },
  {
   "cell_type": "code",
   "execution_count": 12,
   "metadata": {},
   "outputs": [
    {
     "name": "stdout",
     "output_type": "stream",
     "text": [
      "Cross Validation Accuracy:  0.46834679295365617\n"
     ]
    }
   ],
   "source": [
    "MLP = MLPClassifier(hidden_layer_sizes=(20,), alpha=0, learning_rate='adaptive', \n",
    "                    learning_rate_init=1e-4, max_iter=3000, beta_1=0.85, beta_2=0.99, random_state=0)\n",
    "kfold = model_selection.KFold(n_splits=5, random_state=0)\n",
    "results = model_selection.cross_val_score(MLP, data_train[cols], data_train.result, cv=kfold, scoring='accuracy')\n",
    "print('Cross Validation Accuracy: ', results.mean())"
   ]
  },
  {
   "cell_type": "markdown",
   "metadata": {},
   "source": [
    "<h2>Linear Support Vector Classification</h2>"
   ]
  },
  {
   "cell_type": "code",
   "execution_count": 13,
   "metadata": {},
   "outputs": [
    {
     "name": "stdout",
     "output_type": "stream",
     "text": [
      "Cross Validation Accuracy:  0.47985776797214375\n"
     ]
    }
   ],
   "source": [
    "Linear = LinearSVC(penalty='l1', dual=False)\n",
    "kfold = model_selection.KFold(n_splits=5, random_state=0)\n",
    "results = model_selection.cross_val_score(Linear, data_train[cols], data_train.result, cv=kfold, scoring='accuracy')\n",
    "print('Cross Validation Accuracy: ', results.mean())"
   ]
  },
  {
   "cell_type": "markdown",
   "metadata": {},
   "source": [
    "<h2>K-nearest neighbors</h2>"
   ]
  },
  {
   "cell_type": "code",
   "execution_count": 14,
   "metadata": {},
   "outputs": [
    {
     "name": "stdout",
     "output_type": "stream",
     "text": [
      "Cross Validation Accuracy:  0.46502845375163454\n"
     ]
    }
   ],
   "source": [
    "KNN = KNeighborsClassifier(n_neighbors=100)\n",
    "kfold = model_selection.KFold(n_splits=5, random_state=0)\n",
    "results = model_selection.cross_val_score(KNN, data_train[cols], data_train.result, cv=kfold, scoring='accuracy')\n",
    "print('Cross Validation Accuracy: ', results.mean())"
   ]
  },
  {
   "cell_type": "markdown",
   "metadata": {},
   "source": [
    "<h2>Random Forest</h2>"
   ]
  },
  {
   "cell_type": "code",
   "execution_count": 15,
   "metadata": {},
   "outputs": [
    {
     "name": "stdout",
     "output_type": "stream",
     "text": [
      "Cross Validation Accuracy:  0.4764263606133473\n"
     ]
    }
   ],
   "source": [
    "RF = RandomForestClassifier(n_estimators=50, min_samples_split=7, min_samples_leaf=2, random_state=0)\n",
    "kfold = model_selection.KFold(n_splits=5, random_state=0)\n",
    "results = model_selection.cross_val_score(RF, data_train[cols], data_train.result, cv=kfold, scoring='accuracy')\n",
    "print('Cross Validation Accuracy: ', results.mean())"
   ]
  },
  {
   "cell_type": "markdown",
   "metadata": {},
   "source": [
    "<h2>Extra Trees</h2>"
   ]
  },
  {
   "cell_type": "code",
   "execution_count": 16,
   "metadata": {},
   "outputs": [
    {
     "name": "stdout",
     "output_type": "stream",
     "text": [
      "Cross Validation Accuracy:  0.4836202379145016\n"
     ]
    }
   ],
   "source": [
    "ET = ExtraTreesClassifier(n_estimators=100, min_samples_split=20, min_samples_leaf=4, random_state=0)\n",
    "kfold = model_selection.KFold(n_splits=5, random_state=0)\n",
    "results = model_selection.cross_val_score(ET, data_train[cols], data_train.result, cv=kfold, scoring='accuracy')\n",
    "print('Cross Validation Accuracy: ', results.mean())"
   ]
  },
  {
   "cell_type": "markdown",
   "metadata": {},
   "source": [
    "<h2>Logistic Regression</h2>"
   ]
  },
  {
   "cell_type": "code",
   "execution_count": 17,
   "metadata": {},
   "outputs": [
    {
     "name": "stdout",
     "output_type": "stream",
     "text": [
      "Cross Validation Accuracy:  0.47808693820981335\n"
     ]
    }
   ],
   "source": [
    "LR = LogisticRegression(penalty='l1')\n",
    "kfold = model_selection.KFold(n_splits=5, random_state=0)\n",
    "results = model_selection.cross_val_score(LR, data_train[cols], data_train.result, cv=kfold, scoring='accuracy')\n",
    "print('Cross Validation Accuracy: ', results.mean())"
   ]
  },
  {
   "cell_type": "markdown",
   "metadata": {},
   "source": [
    "<h2>Quadratic Discriminant Analysis</h2>"
   ]
  },
  {
   "cell_type": "code",
   "execution_count": 18,
   "metadata": {},
   "outputs": [
    {
     "name": "stdout",
     "output_type": "stream",
     "text": [
      "Cross Validation Accuracy:  0.4331529670749445\n"
     ]
    }
   ],
   "source": [
    "QDA_model = QDA()\n",
    "kfold = model_selection.KFold(n_splits=5, random_state=0)\n",
    "results = model_selection.cross_val_score(QDA_model, data_train[cols], data_train.result, cv=kfold, scoring='accuracy')\n",
    "print('Cross Validation Accuracy: ', results.mean())"
   ]
  },
  {
   "cell_type": "code",
   "execution_count": null,
   "metadata": {},
   "outputs": [],
   "source": []
  }
 ],
 "metadata": {
  "kernelspec": {
   "display_name": "Python [conda env:py36]",
   "language": "python",
   "name": "conda-env-py36-py"
  },
  "language_info": {
   "codemirror_mode": {
    "name": "ipython",
    "version": 3
   },
   "file_extension": ".py",
   "mimetype": "text/x-python",
   "name": "python",
   "nbconvert_exporter": "python",
   "pygments_lexer": "ipython3",
   "version": "3.6.4"
  }
 },
 "nbformat": 4,
 "nbformat_minor": 2
}
